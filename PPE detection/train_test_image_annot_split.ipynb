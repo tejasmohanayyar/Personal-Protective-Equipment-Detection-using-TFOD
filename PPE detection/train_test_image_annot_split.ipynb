{
 "cells": [
  {
   "cell_type": "code",
   "execution_count": 1,
   "metadata": {},
   "outputs": [],
   "source": [
    "import os\n",
    "import shutil"
   ]
  },
  {
   "cell_type": "code",
   "execution_count": 28,
   "metadata": {},
   "outputs": [],
   "source": [
    "a = os.listdir('earmuffs')"
   ]
  },
  {
   "cell_type": "markdown",
   "metadata": {},
   "source": [
    "# To balance xml and jpg files"
   ]
  },
  {
   "cell_type": "code",
   "execution_count": 87,
   "metadata": {},
   "outputs": [
    {
     "data": {
      "text/plain": [
       "(233, 420)"
      ]
     },
     "execution_count": 87,
     "metadata": {},
     "output_type": "execute_result"
    }
   ],
   "source": [
    "xml = [i[:-4] for i in a if i[-4:] == '.xml']\n",
    "jpg = [i[:-4] for i in a if i[-4:] == '.jpg']\n",
    "len(xml),len(jpg)"
   ]
  },
  {
   "cell_type": "code",
   "execution_count": 94,
   "metadata": {},
   "outputs": [],
   "source": [
    "intersect = np.intersect1d(xml,jpg)"
   ]
  },
  {
   "cell_type": "code",
   "execution_count": 98,
   "metadata": {},
   "outputs": [
    {
     "data": {
      "text/plain": [
       "241"
      ]
     },
     "execution_count": 98,
     "metadata": {},
     "output_type": "execute_result"
    }
   ],
   "source": [
    "filtered_jpg = [i for i in a if i[:-4] in intersect and i[-4:] == '.jpg' or i[-4:] == '.png']\n",
    "len(filtered_jpg)"
   ]
  },
  {
   "cell_type": "code",
   "execution_count": 90,
   "metadata": {},
   "outputs": [],
   "source": [
    "import numpy as np"
   ]
  },
  {
   "cell_type": "code",
   "execution_count": 93,
   "metadata": {},
   "outputs": [
    {
     "data": {
      "text/plain": [
       "array(['0e44971cc77064f9dc1d4902879f2282', '10088835-FR-1',\n",
       "       '220px-Elderly_couple_with_ear_muffs', '262-AEJ030-50',\n",
       "       '262-AEK020-HV---MFR', '263-43003---FR',\n",
       "       '264-46102---FR-on-helmet', '319steckert',\n",
       "       '3m-helmet-mounted-ear-muffs-500x500', '41GYAgITAqL', '615klee',\n",
       "       '6d2ce30b62805783dafd698562b9dd77', '71jBU2heJsL',\n",
       "       '800px_COLOURBOX8121264', '800px_COLOURBOX8306479',\n",
       "       '8M001X_220copy_636873933233901767',\n",
       "       'AVONDALE_SHIPYARD_WORKER_WEARS_SPECIAL_EAR_MUFFS_FOR_PROTECTION_FROM_THE_HEAVY_LEVEL_OF_INDUSTRIAL_NOISE_POLLUTION_-_NARA_-_546041',\n",
       "       'Active-Electronic-Ear-Muffs-1100x1627',\n",
       "       'AmazonBasics-Noise-Reduction-Safety-Earmuffs-FI',\n",
       "       'Best-Electronic-Ear-Muffs-820x574',\n",
       "       'Best-Noise-Cancelling-Earmuffs-Review',\n",
       "       'Cold-Weather_Ear_Muffs_2017', 'Ear-Muffs-vs-Ear-Plugs',\n",
       "       'Factory-Worker-with-Ear-Muffs', 'Feature_no_words',\n",
       "       'HTB1vGYXe9CWBuNjy0Fhq6z6EVXas.jpg_350x350',\n",
       "       'Hearing-Protection-Device-1100x672', 'SWX00260-v2',\n",
       "       'ar-H10A-290x326', 'best-noise-cancelling-ear-muffs',\n",
       "       'concentrated-male-woodworker-in-protective-goggles-and-industrial-ear-muffs-standing-at-workbench-with-wood-2CEXMKM',\n",
       "       'ear-muff-regular-500x500', 'ear-muffs-250x250',\n",
       "       'ear-muffs-250x2500', 'ear-muffs-copy-1-1900x500', 'ear-muffs1',\n",
       "       'earmuffs', 'earmuffs0', 'eedbc2a852297f4d53f2d666175e440d',\n",
       "       'female-engineer-in-protective-ear-muffs-and-glasses-holding-folder-writing-engineers-wearing-in-white-t-shirts-coveralls-helmets-operating-computerized-plasma-laser-machine-T17R1C',\n",
       "       'hearing-protection-industrial-ear-muffs-600w-1014516472',\n",
       "       'hearing-protection-section-2', 'hearing-protection-section-4',\n",
       "       'image_23888', 'images', 'images0', 'images1', 'images10',\n",
       "       'images100', 'images101', 'images102', 'images103', 'images104',\n",
       "       'images105', 'images106', 'images107', 'images108', 'images109',\n",
       "       'images11', 'images110', 'images111', 'images112', 'images113',\n",
       "       'images114', 'images115', 'images116', 'images117', 'images118',\n",
       "       'images119', 'images12', 'images120', 'images121', 'images122',\n",
       "       'images123', 'images125', 'images126', 'images127', 'images128',\n",
       "       'images13', 'images130', 'images131', 'images132', 'images133',\n",
       "       'images134', 'images135', 'images136', 'images137', 'images138',\n",
       "       'images14', 'images140', 'images141', 'images142', 'images143',\n",
       "       'images144', 'images145', 'images146', 'images147', 'images148',\n",
       "       'images149', 'images15', 'images150', 'images151', 'images152',\n",
       "       'images154', 'images155', 'images156', 'images158', 'images159',\n",
       "       'images16', 'images160', 'images163', 'images165', 'images166',\n",
       "       'images168', 'images169', 'images17', 'images170', 'images171',\n",
       "       'images172', 'images173', 'images174', 'images175', 'images177',\n",
       "       'images178', 'images179', 'images18', 'images180', 'images181',\n",
       "       'images182', 'images183', 'images184', 'images185', 'images186',\n",
       "       'images188', 'images189', 'images19', 'images190', 'images192',\n",
       "       'images193', 'images195', 'images196', 'images197', 'images198',\n",
       "       'images199', 'images2', 'images20', 'images200', 'images201',\n",
       "       'images202', 'images203', 'images204', 'images205', 'images206',\n",
       "       'images207', 'images208', 'images209', 'images210', 'images211',\n",
       "       'images212', 'images213', 'images214', 'images215', 'images216',\n",
       "       'images217', 'images218', 'images219', 'images226', 'images227',\n",
       "       'images228', 'images23', 'images230', 'images231', 'images232',\n",
       "       'images233', 'images234', 'images235', 'images237', 'images239',\n",
       "       'images240', 'images241', 'images242', 'images243', 'images244',\n",
       "       'images245', 'images247', 'images249', 'images25', 'images251',\n",
       "       'images252', 'images253', 'images254', 'images255', 'images256',\n",
       "       'images257', 'images259', 'images26', 'images260', 'images263',\n",
       "       'images264', 'images265', 'images266', 'images268', 'images269',\n",
       "       'images27', 'images271', 'images273', 'images274', 'images276',\n",
       "       'images277', 'images28', 'images280', 'images281', 'images282',\n",
       "       'images283', 'images285', 'images287', 'images288',\n",
       "       'safety-helmet-with-ear-muff-500x500',\n",
       "       'saviour-helmet-mounted-ear-muffs-universal-1_2', 'sokol5B15D',\n",
       "       'udyogi-et-50-500x500', 'ultra-helmet-with-earmuff-250x250',\n",
       "       'western-safety-safety-industrial-ear-muffs'], dtype='<U179')"
      ]
     },
     "execution_count": 93,
     "metadata": {},
     "output_type": "execute_result"
    }
   ],
   "source": []
  },
  {
   "cell_type": "code",
   "execution_count": 13,
   "metadata": {},
   "outputs": [],
   "source": [
    "for i in filtered_jpg:\n",
    "    shutil.copy('earmuffs/'+i,'earmuffs/images')\n",
    "\n",
    "\n",
    "# for i in xml:\n",
    "#     shutil.copy('earmuffs/'+i,'earmuffs/annotations')"
   ]
  },
  {
   "cell_type": "code",
   "execution_count": 27,
   "metadata": {},
   "outputs": [
    {
     "ename": "FileNotFoundError",
     "evalue": "[Errno 2] No such file or directory: 'earmuffs/annotations\\\\female-engineer-in-protective-ear-muffs-and-glasses-holding-folder-writing-engineers-wearing-in-white-t-shirts-coveralls-helmets-operating-computerized-plasma-laser-machine-T17R1C.xml'",
     "output_type": "error",
     "traceback": [
      "\u001b[1;31m---------------------------------------------------------------------------\u001b[0m",
      "\u001b[1;31mFileNotFoundError\u001b[0m                         Traceback (most recent call last)",
      "\u001b[1;32m<ipython-input-27-b0341e11e951>\u001b[0m in \u001b[0;36m<module>\u001b[1;34m\u001b[0m\n\u001b[0;32m      2\u001b[0m \u001b[0mxml_filtered\u001b[0m \u001b[1;33m=\u001b[0m \u001b[1;33m[\u001b[0m\u001b[0mi\u001b[0m \u001b[1;32mfor\u001b[0m \u001b[0mi\u001b[0m \u001b[1;32min\u001b[0m \u001b[0mxml\u001b[0m \u001b[1;32mif\u001b[0m \u001b[0mi\u001b[0m\u001b[1;33m[\u001b[0m\u001b[1;33m:\u001b[0m\u001b[1;33m-\u001b[0m\u001b[1;36m4\u001b[0m\u001b[1;33m]\u001b[0m \u001b[1;32min\u001b[0m \u001b[0mr\u001b[0m\u001b[1;33m]\u001b[0m\u001b[1;33m\u001b[0m\u001b[1;33m\u001b[0m\u001b[0m\n\u001b[0;32m      3\u001b[0m \u001b[1;32mfor\u001b[0m \u001b[0mi\u001b[0m \u001b[1;32min\u001b[0m \u001b[0mxml_filtered\u001b[0m\u001b[1;33m:\u001b[0m\u001b[1;33m\u001b[0m\u001b[1;33m\u001b[0m\u001b[0m\n\u001b[1;32m----> 4\u001b[1;33m     \u001b[0mshutil\u001b[0m\u001b[1;33m.\u001b[0m\u001b[0mcopy\u001b[0m\u001b[1;33m(\u001b[0m\u001b[1;34m'earmuffs/'\u001b[0m\u001b[1;33m+\u001b[0m\u001b[0mi\u001b[0m\u001b[1;33m,\u001b[0m\u001b[1;34m'earmuffs/annotations'\u001b[0m\u001b[1;33m)\u001b[0m\u001b[1;33m\u001b[0m\u001b[1;33m\u001b[0m\u001b[0m\n\u001b[0m",
      "\u001b[1;32m~\\Anaconda3\\lib\\shutil.py\u001b[0m in \u001b[0;36mcopy\u001b[1;34m(src, dst, follow_symlinks)\u001b[0m\n\u001b[0;32m    246\u001b[0m     \u001b[1;32mif\u001b[0m \u001b[0mos\u001b[0m\u001b[1;33m.\u001b[0m\u001b[0mpath\u001b[0m\u001b[1;33m.\u001b[0m\u001b[0misdir\u001b[0m\u001b[1;33m(\u001b[0m\u001b[0mdst\u001b[0m\u001b[1;33m)\u001b[0m\u001b[1;33m:\u001b[0m\u001b[1;33m\u001b[0m\u001b[1;33m\u001b[0m\u001b[0m\n\u001b[0;32m    247\u001b[0m         \u001b[0mdst\u001b[0m \u001b[1;33m=\u001b[0m \u001b[0mos\u001b[0m\u001b[1;33m.\u001b[0m\u001b[0mpath\u001b[0m\u001b[1;33m.\u001b[0m\u001b[0mjoin\u001b[0m\u001b[1;33m(\u001b[0m\u001b[0mdst\u001b[0m\u001b[1;33m,\u001b[0m \u001b[0mos\u001b[0m\u001b[1;33m.\u001b[0m\u001b[0mpath\u001b[0m\u001b[1;33m.\u001b[0m\u001b[0mbasename\u001b[0m\u001b[1;33m(\u001b[0m\u001b[0msrc\u001b[0m\u001b[1;33m)\u001b[0m\u001b[1;33m)\u001b[0m\u001b[1;33m\u001b[0m\u001b[1;33m\u001b[0m\u001b[0m\n\u001b[1;32m--> 248\u001b[1;33m     \u001b[0mcopyfile\u001b[0m\u001b[1;33m(\u001b[0m\u001b[0msrc\u001b[0m\u001b[1;33m,\u001b[0m \u001b[0mdst\u001b[0m\u001b[1;33m,\u001b[0m \u001b[0mfollow_symlinks\u001b[0m\u001b[1;33m=\u001b[0m\u001b[0mfollow_symlinks\u001b[0m\u001b[1;33m)\u001b[0m\u001b[1;33m\u001b[0m\u001b[1;33m\u001b[0m\u001b[0m\n\u001b[0m\u001b[0;32m    249\u001b[0m     \u001b[0mcopymode\u001b[0m\u001b[1;33m(\u001b[0m\u001b[0msrc\u001b[0m\u001b[1;33m,\u001b[0m \u001b[0mdst\u001b[0m\u001b[1;33m,\u001b[0m \u001b[0mfollow_symlinks\u001b[0m\u001b[1;33m=\u001b[0m\u001b[0mfollow_symlinks\u001b[0m\u001b[1;33m)\u001b[0m\u001b[1;33m\u001b[0m\u001b[1;33m\u001b[0m\u001b[0m\n\u001b[0;32m    250\u001b[0m     \u001b[1;32mreturn\u001b[0m \u001b[0mdst\u001b[0m\u001b[1;33m\u001b[0m\u001b[1;33m\u001b[0m\u001b[0m\n",
      "\u001b[1;32m~\\Anaconda3\\lib\\shutil.py\u001b[0m in \u001b[0;36mcopyfile\u001b[1;34m(src, dst, follow_symlinks)\u001b[0m\n\u001b[0;32m    119\u001b[0m     \u001b[1;32melse\u001b[0m\u001b[1;33m:\u001b[0m\u001b[1;33m\u001b[0m\u001b[1;33m\u001b[0m\u001b[0m\n\u001b[0;32m    120\u001b[0m         \u001b[1;32mwith\u001b[0m \u001b[0mopen\u001b[0m\u001b[1;33m(\u001b[0m\u001b[0msrc\u001b[0m\u001b[1;33m,\u001b[0m \u001b[1;34m'rb'\u001b[0m\u001b[1;33m)\u001b[0m \u001b[1;32mas\u001b[0m \u001b[0mfsrc\u001b[0m\u001b[1;33m:\u001b[0m\u001b[1;33m\u001b[0m\u001b[1;33m\u001b[0m\u001b[0m\n\u001b[1;32m--> 121\u001b[1;33m             \u001b[1;32mwith\u001b[0m \u001b[0mopen\u001b[0m\u001b[1;33m(\u001b[0m\u001b[0mdst\u001b[0m\u001b[1;33m,\u001b[0m \u001b[1;34m'wb'\u001b[0m\u001b[1;33m)\u001b[0m \u001b[1;32mas\u001b[0m \u001b[0mfdst\u001b[0m\u001b[1;33m:\u001b[0m\u001b[1;33m\u001b[0m\u001b[1;33m\u001b[0m\u001b[0m\n\u001b[0m\u001b[0;32m    122\u001b[0m                 \u001b[0mcopyfileobj\u001b[0m\u001b[1;33m(\u001b[0m\u001b[0mfsrc\u001b[0m\u001b[1;33m,\u001b[0m \u001b[0mfdst\u001b[0m\u001b[1;33m)\u001b[0m\u001b[1;33m\u001b[0m\u001b[1;33m\u001b[0m\u001b[0m\n\u001b[0;32m    123\u001b[0m     \u001b[1;32mreturn\u001b[0m \u001b[0mdst\u001b[0m\u001b[1;33m\u001b[0m\u001b[1;33m\u001b[0m\u001b[0m\n",
      "\u001b[1;31mFileNotFoundError\u001b[0m: [Errno 2] No such file or directory: 'earmuffs/annotations\\\\female-engineer-in-protective-ear-muffs-and-glasses-holding-folder-writing-engineers-wearing-in-white-t-shirts-coveralls-helmets-operating-computerized-plasma-laser-machine-T17R1C.xml'"
     ]
    }
   ],
   "source": [
    "\n",
    "for i in xml_filtered:\n",
    "    shutil.copy('earmuffs/'+i,'earmuffs/annotations')"
   ]
  },
  {
   "cell_type": "code",
   "execution_count": null,
   "metadata": {},
   "outputs": [],
   "source": []
  },
  {
   "cell_type": "markdown",
   "metadata": {},
   "source": [
    "# Splitting into train and test"
   ]
  },
  {
   "cell_type": "code",
   "execution_count": 129,
   "metadata": {},
   "outputs": [
    {
     "name": "stdout",
     "output_type": "stream",
     "text": [
      "Train Test Folders present\n"
     ]
    }
   ],
   "source": [
    "try:\n",
    "    os.mkdir('helmet_images_annotations/train')\n",
    "    os.mkdir('helmet_images_annotations/test')\n",
    "except:\n",
    "    print('Train Test Folders present')\n",
    "from sklearn.model_selection import train_test_split\n",
    "x_train,x_test = train_test_split(filtered_jpg,test_size = 0.1,random_state = 3246)\n",
    "for i in x_train:\n",
    "    shutil.copy('helmet_images_annotations/images/'+i,'helmet_images_annotations/train')\n",
    "for i in x_test:\n",
    "    shutil.copy('helmet_images_annotations/images/'+i,'helmet_images_annotations/test')\n",
    "xtrain = [i[:-4] for i in x_train]\n",
    "xtest = [i[:-4] for i in x_test]\n",
    "train_annot = [i for i in os.listdir('helmet_images_annotations/annotations') if i[:-4] in xtrain]\n",
    "test_annot = [i for i in os.listdir('helmet_images_annotations/annotations') if i[:-4] in xtest]\n",
    "for i in train_annot:\n",
    "    shutil.copy('helmet_images_annotations/annotations/'+i,'helmet_images_annotations/train')\n",
    "for i in test_annot:\n",
    "    shutil.copy('helmet_images_annotations/annotations/'+i,'helmet_images_annotations/test')"
   ]
  },
  {
   "cell_type": "code",
   "execution_count": null,
   "metadata": {},
   "outputs": [],
   "source": []
  },
  {
   "cell_type": "code",
   "execution_count": null,
   "metadata": {},
   "outputs": [],
   "source": []
  },
  {
   "cell_type": "code",
   "execution_count": null,
   "metadata": {},
   "outputs": [],
   "source": []
  },
  {
   "cell_type": "code",
   "execution_count": null,
   "metadata": {},
   "outputs": [],
   "source": []
  }
 ],
 "metadata": {
  "kernelspec": {
   "display_name": "Python 3",
   "language": "python",
   "name": "python3"
  },
  "language_info": {
   "codemirror_mode": {
    "name": "ipython",
    "version": 3
   },
   "file_extension": ".py",
   "mimetype": "text/x-python",
   "name": "python",
   "nbconvert_exporter": "python",
   "pygments_lexer": "ipython3",
   "version": "3.7.4"
  }
 },
 "nbformat": 4,
 "nbformat_minor": 2
}
